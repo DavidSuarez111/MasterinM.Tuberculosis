{
 "cells": [
  {
   "cell_type": "code",
   "execution_count": 2,
   "metadata": {},
   "outputs": [],
   "source": [
    "#!pip install biopython\n",
    "#!pip install bcbio-gff\n",
    "from BCBio import GFF\n",
    "from Bio import SeqIO"
   ]
  },
  {
   "cell_type": "code",
   "execution_count": 4,
   "metadata": {},
   "outputs": [],
   "source": [
    "#gbff maker\n",
    "def gbff_to_gff(gbff_file, gff_file):\n",
    "    \"\"\"Convert a GBFF (GenBank) file to GFF3 format.\"\"\"\n",
    "    with open(gff_file, \"w\") as gff_out:\n",
    "        gb_records = SeqIO.parse(gbff_file, \"genbank\")\n",
    "        GFF.write(gb_records, gff_out)\n",
    "\n",
    "\n",
    "#gtf maker\n",
    "\n",
    "\n",
    "def gff_to_gtf(gff_file, gtf_file):\n",
    "    \"\"\"Convert a GFF3 file to GTF format by adjusting column formatting.\"\"\"\n",
    "    with open(gff_file, \"r\") as gff, open(gtf_file, \"w\") as gtf:\n",
    "        for line in gff:\n",
    "            if line.startswith(\"#\"):\n",
    "                continue  # Skip comment lines\n",
    "            fields = line.strip().split(\"\\t\")\n",
    "            if len(fields) < 9:\n",
    "                continue  # Skip malformed lines\n",
    "\n",
    "            # Convert attributes from GFF3 format to GTF format\n",
    "            attributes = fields[8]\n",
    "            attr_dict = {}\n",
    "            for attr in attributes.split(\";\"):\n",
    "                if \"=\" in attr:\n",
    "                    key, value = attr.split(\"=\")\n",
    "                    attr_dict[key.strip()] = f'\"{value.strip()}\"'\n",
    "\n",
    "            # Required GTF fields: gene_id and transcript_id\n",
    "            gene_id = attr_dict.get(\"ID\", '\"unknown_gene\"')\n",
    "            transcript_id = attr_dict.get(\"Parent\", gene_id)\n",
    "\n",
    "            # Format attributes to GTF style\n",
    "            gtf_attributes = f'gene_id {gene_id}; transcript_id {transcript_id};'\n",
    "            fields[8] = gtf_attributes\n",
    "\n",
    "            gtf.write(\"\\t\".join(fields) + \"\\n\")\n",
    "\n",
    "## Convert GBFF to GFF first\n",
    "#input_file = \"annotation.gbff\"  # Change this to your input file\n",
    "#gff_file = \"annotation.gff\"\n",
    "#gtf_file = \"annotation.gtf\"\n",
    "#\n",
    "#with open(gff_file, \"w\") as gff_out:\n",
    "#    gb_records = SeqIO.parse(input_file, \"genbank\")\n",
    "#    GFF.write(gb_records, gff_out)\n",
    "#\n",
    "## Convert GFF to GTF\n",
    "#gff_to_gtf(gff_file, gtf_file)\n",
    "#\n",
    "#print(f\"Converted {input_file} to {gtf_file}\")"
   ]
  },
  {
   "cell_type": "code",
   "execution_count": 5,
   "metadata": {},
   "outputs": [
    {
     "name": "stdout",
     "output_type": "stream",
     "text": [
      "Converted C:/Users/david/1.Archivos-Directorios/1. Maestría/0Tesis Maestría/1. AT en R/1. Datos limpios fastq/Genomas referencia/balbc/annotation.gbff to C:/Users/david/1.Archivos-Directorios/1. Maestría/0Tesis Maestría/1. AT en R/1. Datos limpios fastq/Genomas referencia/balbc/annotation.gff\n",
      "Converted C:/Users/david/1.Archivos-Directorios/1. Maestría/0Tesis Maestría/1. AT en R/1. Datos limpios fastq/Genomas referencia/balbc/annotation.gff to C:/Users/david/1.Archivos-Directorios/1. Maestría/0Tesis Maestría/1. AT en R/1. Datos limpios fastq/Genomas referencia/balbc/annotation.gtf\n"
     ]
    }
   ],
   "source": [
    "#Uso de las funciones\n",
    "\n",
    "# File paths (Change these to match your files)\n",
    "gbff_file = \"C:/Users/david/1.Archivos-Directorios/1. Maestría/0Tesis Maestría/1. AT en R/1. Datos limpios fastq/Genomas referencia/balbc/annotation.gbff\"  # Input GBFF file\n",
    "gff_file = \"C:/Users/david/1.Archivos-Directorios/1. Maestría/0Tesis Maestría/1. AT en R/1. Datos limpios fastq/Genomas referencia/balbc/annotation.gff\"    # Temporary GFF file\n",
    "gtf_file = \"C:/Users/david/1.Archivos-Directorios/1. Maestría/0Tesis Maestría/1. AT en R/1. Datos limpios fastq/Genomas referencia/balbc/annotation.gtf\"    # Final GTF file\n",
    "\n",
    "# Step 1: Convert GBFF to GFF\n",
    "gbff_to_gff(gbff_file, gff_file)\n",
    "print(f\"Converted {gbff_file} to {gff_file}\")\n",
    "\n",
    "# Step 2: Convert GFF to GTF\n",
    "gff_to_gtf(gff_file, gtf_file)\n",
    "print(f\"Converted {gff_file} to {gtf_file}\")"
   ]
  },
  {
   "cell_type": "markdown",
   "metadata": {},
   "source": []
  }
 ],
 "metadata": {
  "kernelspec": {
   "display_name": "Python 3",
   "language": "python",
   "name": "python3"
  },
  "language_info": {
   "codemirror_mode": {
    "name": "ipython",
    "version": 3
   },
   "file_extension": ".py",
   "mimetype": "text/x-python",
   "name": "python",
   "nbconvert_exporter": "python",
   "pygments_lexer": "ipython3",
   "version": "3.13.0"
  }
 },
 "nbformat": 4,
 "nbformat_minor": 2
}
